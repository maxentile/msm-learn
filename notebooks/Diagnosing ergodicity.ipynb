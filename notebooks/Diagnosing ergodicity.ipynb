{
 "cells": [
  {
   "cell_type": "code",
   "execution_count": 1,
   "metadata": {
    "collapsed": false
   },
   "outputs": [],
   "source": [
    "from glob import glob\n",
    "import numpy as np\n",
    "\n",
    "from tqdm import tqdm\n",
    "\n",
    "from sklearn.discriminant_analysis import LinearDiscriminantAnalysis\n",
    "from sklearn.metrics import confusion_matrix\n",
    "\n",
    "import matplotlib.pyplot as plt\n",
    "%matplotlib inline"
   ]
  },
  {
   "cell_type": "code",
   "execution_count": 2,
   "metadata": {
    "collapsed": false
   },
   "outputs": [],
   "source": [
    "# featurized trajectories\n",
    "path = \"/Users/joshuafass/abl_backbone_torsions/*.npy\"\n",
    "fnames = glob(path)"
   ]
  },
  {
   "cell_type": "code",
   "execution_count": 3,
   "metadata": {
    "collapsed": false
   },
   "outputs": [
    {
     "data": {
      "text/plain": [
       "(0, 0)"
      ]
     },
     "execution_count": 3,
     "metadata": {},
     "output_type": "execute_result"
    }
   ],
   "source": [
    "def parse_run_and_clone_from_fname(fname):\n",
    "    \"\"\"Return a tuple of integers from the filename string\"\"\"\n",
    "    actual_fname = fname.split(\"/\")[-1]\n",
    "    fname_after_run = actual_fname[3:]\n",
    "    run_string, clone_string_ = fname_after_run.split(\"-\")\n",
    "    clone_string = clone_string_.split(\"_\")[0][len(\"clone\"):]\n",
    "    \n",
    "    return int(run_string), int(clone_string)\n",
    "    \n",
    "parse_run_and_clone_from_fname(fnames[0])"
   ]
  },
  {
   "cell_type": "code",
   "execution_count": 4,
   "metadata": {
    "collapsed": false
   },
   "outputs": [
    {
     "name": "stderr",
     "output_type": "stream",
     "text": [
      "100%|██████████| 1377/1377 [00:11<00:00, 121.90it/s]\n"
     ]
    },
    {
     "data": {
      "text/plain": [
       "((330351, 1004), (330351,), 95)"
      ]
     },
     "execution_count": 4,
     "metadata": {},
     "output_type": "execute_result"
    }
   ],
   "source": [
    "# load the data and labels\n",
    "Xs = []\n",
    "ys = []\n",
    "\n",
    "for fname in tqdm(fnames):\n",
    "    run, clone = parse_run_and_clone_from_fname(fname)\n",
    "    Xs.append(np.load(fname)[::5]) # for \"training\", taking every 5th frame\n",
    "    ys.append(np.ones(len(Xs[-1])) * run)\n",
    "X = np.vstack(Xs)\n",
    "y = np.hstack(ys)\n",
    "X.shape, y.shape, len(set(y))"
   ]
  },
  {
   "cell_type": "code",
   "execution_count": 5,
   "metadata": {
    "collapsed": false
   },
   "outputs": [
    {
     "name": "stderr",
     "output_type": "stream",
     "text": [
      "/Users/joshuafass/anaconda/lib/python2.7/site-packages/ipykernel/__main__.py:2: VisibleDeprecationWarning: using a non-integer number instead of an integer will result in an error in the future\n",
      "  from ipykernel import kernelapp as app\n",
      "100%|██████████| 1377/1377 [00:13<00:00, 105.81it/s]\n"
     ]
    }
   ],
   "source": [
    "# get the number of frames per RUN\n",
    "frames_per_RUN = np.zeros(max(y)+1)\n",
    "for fname in tqdm(fnames):\n",
    "    run, clone = parse_run_and_clone_from_fname(fname)\n",
    "    n_frames = len(np.load(fname))\n",
    "    frames_per_RUN[run] += n_frames"
   ]
  },
  {
   "cell_type": "code",
   "execution_count": 6,
   "metadata": {
    "collapsed": true
   },
   "outputs": [],
   "source": [
    "lda = LinearDiscriminantAnalysis()"
   ]
  },
  {
   "cell_type": "code",
   "execution_count": 7,
   "metadata": {
    "collapsed": false
   },
   "outputs": [
    {
     "data": {
      "text/plain": [
       "LinearDiscriminantAnalysis(n_components=None, priors=None, shrinkage=None,\n",
       "              solver='svd', store_covariance=False, tol=0.0001)"
      ]
     },
     "execution_count": 7,
     "metadata": {},
     "output_type": "execute_result"
    }
   ],
   "source": [
    "lda.fit(X, y)"
   ]
  },
  {
   "cell_type": "code",
   "execution_count": 8,
   "metadata": {
    "collapsed": false
   },
   "outputs": [
    {
     "data": {
      "text/plain": [
       "0.98592103550466015"
      ]
     },
     "execution_count": 8,
     "metadata": {},
     "output_type": "execute_result"
    }
   ],
   "source": [
    "lda.score(X,y)"
   ]
  },
  {
   "cell_type": "code",
   "execution_count": 9,
   "metadata": {
    "collapsed": true
   },
   "outputs": [],
   "source": [
    "y_ = lda.predict(X)"
   ]
  },
  {
   "cell_type": "code",
   "execution_count": 10,
   "metadata": {
    "collapsed": false
   },
   "outputs": [
    {
     "name": "stderr",
     "output_type": "stream",
     "text": [
      "/Users/joshuafass/anaconda/lib/python2.7/site-packages/ipykernel/__main__.py:4: RuntimeWarning: divide by zero encountered in log\n"
     ]
    },
    {
     "data": {
      "text/plain": [
       "<matplotlib.image.AxesImage at 0x2ea58c490>"
      ]
     },
     "execution_count": 10,
     "metadata": {},
     "output_type": "execute_result"
    },
    {
     "data": {
      "image/png": "[encoded data removed]",
      "text/plain": [
       "<matplotlib.figure.Figure at 0x10eee5c10>"
      ]
     },
     "metadata": {},
     "output_type": "display_data"
    }
   ],
   "source": [
    "# see how well the learned linear classifier can separate trajectories by initial condition\n",
    "c_m = confusion_matrix(y, y_)\n",
    "\n",
    "plt.imshow(np.log(c_m), interpolation=\"none\", cmap=\"Blues\")"
   ]
  },
  {
   "cell_type": "code",
   "execution_count": 11,
   "metadata": {
    "collapsed": false
   },
   "outputs": [
    {
     "data": {
      "text/plain": [
       "0.9859210355046601"
      ]
     },
     "execution_count": 11,
     "metadata": {},
     "output_type": "execute_result"
    }
   ],
   "source": [
    "# classification accuracy\n",
    "1.0 * np.trace(c_m) / np.sum(c_m)"
   ]
  },
  {
   "cell_type": "code",
   "execution_count": 12,
   "metadata": {
    "collapsed": false
   },
   "outputs": [
    {
     "data": {
      "text/plain": [
       "0.0260387811634349"
      ]
     },
     "execution_count": 12,
     "metadata": {},
     "output_type": "execute_result"
    }
   ],
   "source": [
    "# fraction of nonzero matrix elements\n",
    "(1.0 * np.sum(c_m!=0)) / np.prod(c_m.shape)"
   ]
  },
  {
   "cell_type": "code",
   "execution_count": 13,
   "metadata": {
    "collapsed": true
   },
   "outputs": [],
   "source": [
    "def subtract_diag(matrix):\n",
    "    return matrix - np.diag(np.diag(matrix))"
   ]
  },
  {
   "cell_type": "code",
   "execution_count": 14,
   "metadata": {
    "collapsed": true
   },
   "outputs": [],
   "source": [
    "# I guess, we can ask which RUNs are connected to at least one other RUN?"
   ]
  },
  {
   "cell_type": "code",
   "execution_count": 15,
   "metadata": {
    "collapsed": false
   },
   "outputs": [
    {
     "data": {
      "text/plain": [
       "array([605, 337, 116,  12, 803,  43,   0,  58,   0,   2,   7,   5, 580,\n",
       "         0, 422,   0, 129,   4, 351,   1, 258,  17, 221, 160,   0,   0,\n",
       "        35,  17,   0,   4,   0,   0,  19,   0,   0,   0,   0,  13,   0,\n",
       "         4,   3,   0,   2,   0,   0,   0,   0,   1,   3,   2,   2,   1,\n",
       "        46,  21,  11,   0,   9,   0,   0,   0,   0,   0,   0,   0,   2,\n",
       "         0,   4,  43, 126,   0,   0,   0, 118,   0,   0,   0,   0,   0,\n",
       "         0,   0,  10,  23,   0,   1,   0,   0,   0,   0,   0,   0,   0,\n",
       "         0,   0,   0,   0])"
      ]
     },
     "execution_count": 15,
     "metadata": {},
     "output_type": "execute_result"
    }
   ],
   "source": [
    "subtract_diag(c_m).sum(0)"
   ]
  },
  {
   "cell_type": "code",
   "execution_count": 16,
   "metadata": {
    "collapsed": false
   },
   "outputs": [
    {
     "data": {
      "text/plain": [
       "(50, 45)"
      ]
     },
     "execution_count": 16,
     "metadata": {},
     "output_type": "execute_result"
    }
   ],
   "source": [
    "# how many RUNs are \"disconnected\" from all others?\n",
    "sum(subtract_diag(c_m).sum(0) == 0), sum(subtract_diag(c_m).sum(0) != 0)"
   ]
  },
  {
   "cell_type": "code",
   "execution_count": 17,
   "metadata": {
    "collapsed": true
   },
   "outputs": [],
   "source": [
    "def n_counts_in_set(run_set):\n",
    "    \"\"\"Compute the number of frames in a set of RUN indices\"\"\"\n",
    "    return sum([frames_per_RUN[run] for run in run_set])"
   ]
  },
  {
   "cell_type": "code",
   "execution_count": 18,
   "metadata": {
    "collapsed": false
   },
   "outputs": [
    {
     "data": {
      "text/plain": [
       "array([ 0.14389883,  0.06456316,  0.05654725, ...,  0.        ,\n",
       "        0.        ,  0.        ])"
      ]
     },
     "execution_count": 18,
     "metadata": {},
     "output_type": "execute_result"
    }
   ],
   "source": [
    "# next, we can identify the largest connected component?\n",
    "\n",
    "import networkx as nx\n",
    "\n",
    "graph = nx.DiGraph(c_m > 10)\n",
    "(100 * sorted([n_counts_in_set(g) for g in nx.strongly_connected_components(graph)])[::-1] / np.sum(frames_per_RUN))"
   ]
  },
  {
   "cell_type": "code",
   "execution_count": 19,
   "metadata": {
    "collapsed": false
   },
   "outputs": [],
   "source": [
    "# As we increase the threshold, what happens?\n",
    "\n",
    "def get_percent_counts_in_largest_component(c_m, threshold=1):\n",
    "    graph = nx.DiGraph(c_m >= threshold)\n",
    "    return (100 * sorted([n_counts_in_set(g) for g in nx.strongly_connected_components(graph)])[-1] / np.sum(frames_per_RUN))\n",
    "\n",
    "\n",
    "def plot_cc_size_as_fxn_of_threshold(c_m):\n",
    "    thresholds = np.arange(1,500)\n",
    "    cc_sizes = [get_percent_counts_in_largest_component(c_m, threshold) for threshold in tqdm(thresholds)]\n",
    "    plt.plot(thresholds, cc_sizes)\n",
    "    percent_counts_in_largest_RUN = 100.0 * np.max(frames_per_RUN) / np.sum(frames_per_RUN)\n",
    "    plt.hlines(percent_counts_in_largest_RUN, thresholds[0], thresholds[-1], linestyle='--')\n",
    "    plt.ylim(0, max(cc_sizes))\n",
    "    plt.ylabel(\"% counts in largest strongly connected component\")\n",
    "    plt.xlabel(\"Threshold\")"
   ]
  },
  {
   "cell_type": "code",
   "execution_count": 20,
   "metadata": {
    "collapsed": false
   },
   "outputs": [
    {
     "name": "stderr",
     "output_type": "stream",
     "text": [
      "100%|██████████| 1377/1377 [00:21<00:00, 64.67it/s] \n"
     ]
    }
   ],
   "source": [
    "# now, let's do this for the full dataset, using the LDA model learned on a small subset of the data\n",
    "\n",
    "y_full_true = []\n",
    "y_full_pred = []\n",
    "for fname in tqdm(fnames):\n",
    "    run, clone = parse_run_and_clone_from_fname(fname)\n",
    "    x = np.load(fname)\n",
    "    \n",
    "    y_full_pred.append(lda.predict(x))\n",
    "    y_full_true.append(np.ones(len(x))*run)"
   ]
  },
  {
   "cell_type": "code",
   "execution_count": 21,
   "metadata": {
    "collapsed": true
   },
   "outputs": [],
   "source": [
    "y_full_true = np.hstack(y_full_true)\n",
    "y_full_pred = np.hstack(y_full_pred)"
   ]
  },
  {
   "cell_type": "code",
   "execution_count": 22,
   "metadata": {
    "collapsed": false
   },
   "outputs": [],
   "source": [
    "c_m = confusion_matrix(y_true=y_full_true, y_pred=y_full_pred)"
   ]
  },
  {
   "cell_type": "code",
   "execution_count": 23,
   "metadata": {
    "collapsed": false
   },
   "outputs": [
    {
     "data": {
      "text/plain": [
       "<matplotlib.image.AxesImage at 0x2eaab5f50>"
      ]
     },
     "execution_count": 23,
     "metadata": {},
     "output_type": "execute_result"
    },
    {
     "data": {
      "image/png": "[encoded data removed]",
      "text/plain": [
       "<matplotlib.figure.Figure at 0x2ef1daf50>"
      ]
     },
     "metadata": {},
     "output_type": "display_data"
    }
   ],
   "source": [
    "plt.imshow(np.log(c_m), interpolation=\"none\", cmap=\"Blues\")"
   ]
  },
  {
   "cell_type": "code",
   "execution_count": 24,
   "metadata": {
    "collapsed": false
   },
   "outputs": [
    {
     "name": "stderr",
     "output_type": "stream",
     "text": [
      "100%|██████████| 499/499 [00:00<00:00, 1198.83it/s]\n"
     ]
    },
    {
     "data": {
      "image/png": "[encoded data removed]",
      "text/plain": [
       "<matplotlib.figure.Figure at 0x10ee6b590>"
      ]
     },
     "metadata": {},
     "output_type": "display_data"
    }
   ],
   "source": [
    "plot_cc_size_as_fxn_of_threshold(c_m)"
   ]
  },
  {
   "cell_type": "code",
   "execution_count": 28,
   "metadata": {
    "collapsed": false
   },
   "outputs": [
    {
     "data": {
      "text/plain": [
       "[{52},\n",
       " {0, 1, 12, 81},\n",
       " {67},\n",
       " {80},\n",
       " {2, 20, 22, 23, 37, 39, 53, 72},\n",
       " {3},\n",
       " {4, 16, 56},\n",
       " {5},\n",
       " {6},\n",
       " {7},\n",
       " {8},\n",
       " {9},\n",
       " {10},\n",
       " {29},\n",
       " {11},\n",
       " {13},\n",
       " {14, 26},\n",
       " {15},\n",
       " {17},\n",
       " {18},\n",
       " {19},\n",
       " {68},\n",
       " {21, 64},\n",
       " {24},\n",
       " {25},\n",
       " {27},\n",
       " {28},\n",
       " {30},\n",
       " {32},\n",
       " {31},\n",
       " {33},\n",
       " {34},\n",
       " {35},\n",
       " {36},\n",
       " {38},\n",
       " {40},\n",
       " {41},\n",
       " {42},\n",
       " {43},\n",
       " {44},\n",
       " {45},\n",
       " {46},\n",
       " {47},\n",
       " {48},\n",
       " {49},\n",
       " {50},\n",
       " {51},\n",
       " {54},\n",
       " {55},\n",
       " {57},\n",
       " {58},\n",
       " {59},\n",
       " {60},\n",
       " {61},\n",
       " {62},\n",
       " {63},\n",
       " {65},\n",
       " {66},\n",
       " {69},\n",
       " {70},\n",
       " {71},\n",
       " {73},\n",
       " {74},\n",
       " {75},\n",
       " {76},\n",
       " {77},\n",
       " {78},\n",
       " {79},\n",
       " {82},\n",
       " {83},\n",
       " {84},\n",
       " {85},\n",
       " {86},\n",
       " {87},\n",
       " {88},\n",
       " {89},\n",
       " {90},\n",
       " {91},\n",
       " {92},\n",
       " {93},\n",
       " {94}]"
      ]
     },
     "execution_count": 28,
     "metadata": {},
     "output_type": "execute_result"
    }
   ],
   "source": [
    "# which RUNs are strongly connected components\n",
    "graph = nx.DiGraph(c_m > 10)\n",
    "[g for g in nx.strongly_connected_components(graph)]"
   ]
  },
  {
   "cell_type": "code",
   "execution_count": 29,
   "metadata": {
    "collapsed": true
   },
   "outputs": [],
   "source": [
    "# to-do: low-dimensional examples"
   ]
  },
  {
   "cell_type": "code",
   "execution_count": null,
   "metadata": {
    "collapsed": true
   },
   "outputs": [],
   "source": []
  }
 ],
 "metadata": {
  "anaconda-cloud": {},
  "kernelspec": {
   "display_name": "Python [default]",
   "language": "python",
   "name": "python2"
  },
  "language_info": {
   "codemirror_mode": {
    "name": "ipython",
    "version": 2
   },
   "file_extension": ".py",
   "mimetype": "text/x-python",
   "name": "python",
   "nbconvert_exporter": "python",
   "pygments_lexer": "ipython2",
   "version": "2.7.9"
  }
 },
 "nbformat": 4,
 "nbformat_minor": 1
}
